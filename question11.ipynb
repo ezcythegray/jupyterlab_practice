{
 "cells": [
  {
   "cell_type": "markdown",
   "id": "d5e21313-4ae1-4218-9872-5c106ea5e5d7",
   "metadata": {},
   "source": [
    "# EZGI DUNDAR TEKKAYA\n",
    "Notebook for assignment 7"
   ]
  },
  {
   "cell_type": "raw",
   "id": "1908d85e-75ff-478e-abeb-3b24f62b7d15",
   "metadata": {},
   "source": [
    "#calculate the mean value of the numbers in the list\n",
    "import numpy as np\n",
    "\n",
    "number_list = [2, 4, 6, 8]\n",
    "mean_value= np.mean(number_list)\n",
    "mean_value\n",
    "print (\"The mean value is:\" , mean_value)"
   ]
  },
  {
   "cell_type": "code",
   "execution_count": 1,
   "id": "6dee19b8-f38e-4e93-a8f4-ff028dc3576d",
   "metadata": {},
   "outputs": [
    {
     "name": "stdout",
     "output_type": "stream",
     "text": [
      "5.0\n"
     ]
    }
   ],
   "source": [
    "#calculate the mean value of the numbers in the list\n",
    "def compute_mean(number_list):\n",
    "    mean = sum(number_list) / len(number_list)\n",
    "    print(mean)\n",
    "\n",
    "compute_mean([2, 4, 6, 8])"
   ]
  },
  {
   "cell_type": "markdown",
   "id": "6e7e6dd9-f3c1-49c4-a219-b854831d9203",
   "metadata": {},
   "source": [
    "### Mean Formula\n",
    "\n",
    "The mean, denoted as $ (\\bar{x}) $, is calculated using the following formula:\n",
    "\n",
    "$$ \\bar{x} = \\frac{x_1+x_2+...+ x_n}{n}  = \\frac{\\sum_{i=1}^{n} x_i}{n} $$\n",
    "\n",
    "Where:\n",
    "- $ (\\bar{x})$ represents the mean,\n",
    "- $ ( x_i ) $ represents each individual value in the dataset,\n",
    "- $ ( \\sum_{i=1}^{n} x_i ) $ denotes the sum of all the values in the dataset,\n",
    "- $ ( n ) $ represents the total number of values in the dataset.\n",
    "\n",
    "This formula computes the average value of a dataset by dividing the sum of all the values by the total count of values in the dataset.\n"
   ]
  }
 ],
 "metadata": {
  "kernelspec": {
   "display_name": "Python 3 (ipykernel)",
   "language": "python",
   "name": "python3"
  },
  "language_info": {
   "codemirror_mode": {
    "name": "ipython",
    "version": 3
   },
   "file_extension": ".py",
   "mimetype": "text/x-python",
   "name": "python",
   "nbconvert_exporter": "python",
   "pygments_lexer": "ipython3",
   "version": "3.12.2"
  }
 },
 "nbformat": 4,
 "nbformat_minor": 5
}
